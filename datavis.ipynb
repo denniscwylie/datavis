{
 "cells": [
  {
   "cell_type": "code",
   "execution_count": null,
   "metadata": {
    "collapsed": false
   },
   "outputs": [],
   "source": [
    "library(dplyr)     ## Hadley Wickham's grammar of data manipulation package\n",
    "library(ggplot2)   ## Hadley Wickham's grammar of graphics plotting package\n",
    "library(GGally)    ## ggplot version of pairs plot\n",
    "#library(ggrepel)   ## non-overlapping geom_text labels\n",
    "library(MASS)\n",
    "library(pheatmap)  ## 'pretty' clustered heatmap\n",
    "#library(robust)    ## robust regression tools\n",
    "library(scales)    ## useful for creating/adjusting ggplot scales"
   ]
  },
  {
   "cell_type": "code",
   "execution_count": null,
   "metadata": {
    "collapsed": false
   },
   "outputs": [],
   "source": [
    "ggplot = function(..., bw=TRUE, grid=FALSE) {\n",
    "    ## change defaults for ggplot: white background, no grid\n",
    "    out = ggplot2::ggplot(...)\n",
    "    if (bw) {out = out + theme_bw()}\n",
    "    if (!grid) {\n",
    "        out = out + theme(\n",
    "            panel.grid.minor = element_blank(),\n",
    "            panel.grid.major = element_blank()\n",
    "        )\n",
    "    }\n",
    "    invisible(out)\n",
    "}"
   ]
  },
  {
   "cell_type": "code",
   "execution_count": null,
   "metadata": {
    "collapsed": false
   },
   "outputs": [],
   "source": [
    "rt = function(..., sep='\\t', row.names=1, header=TRUE, check.names=FALSE) {\n",
    "    ## read.table with different defaults and shorter name\n",
    "    return(read.table(..., sep=sep, row.names=row.names, header=header,\n",
    "           check.names=check.names))\n",
    "}"
   ]
  },
  {
   "cell_type": "markdown",
   "metadata": {},
   "source": [
    "**Load in Kallisto-quantified RNA-seq data from GEO set GSE75386:**\n",
    "\"For neurons, electrophysiological properties traditionally guide cell type classification but correlating RNAseq data with electrophysiological parameters has been difficult. Here we demonstrate RNAseq of electrophysiologically and synaptically characterized individual, patched neurons in the hippocampal CA1-region and subiculum, and relate the resulting transcriptome data to their electrical and synaptic properties. In this analysis, we explored the hypothesis that precise combinatorial interactions between matching cell-adhesion and signaling molecules shape synapse specificity. In analyzing interneurons and pyramidal neurons that are synaptically connected, we identified two independent, developmentally regulated networks of interacting genes encoding cell-adhesion, exocytosis and signal-transduction molecules. In this manner, our data allow postulating a presumed cell-adhesion and signaling code, which may explain neuronal connectivity at the molecular level. Our approach enables correlating electrophysiological with molecular properties of neurons, and suggests new avenues towards understanding synaptic specificity.\""
   ]
  },
  {
   "cell_type": "code",
   "execution_count": null,
   "metadata": {
    "collapsed": false
   },
   "outputs": [],
   "source": [
    "logTpm = rt('gse75386_logtpm_filtered.tsv.gz')\n",
    "trxAnnot = rt('Mus_musculus_GRCm38_82_TranscriptMap.tsv.gz')\n",
    "trxAnnot = trxAnnot[rownames(logTpm), ]\n",
    "annot = droplevels(rt('gse75386_processed_annot.tsv')[colnames(logTpm), ])\n",
    "head(annot)"
   ]
  },
  {
   "cell_type": "code",
   "execution_count": null,
   "metadata": {
    "collapsed": false
   },
   "outputs": [],
   "source": [
    "type = structure(annot$type, names=rownames(annot))\n",
    "simpleType = factor(c(\n",
    "    `CA1 cholecystokinin cell` = \"Cck\",\n",
    "    `CA1 parvalbumin cell` = \"Pvalb\",\n",
    "    `CA1 pyramidal cell` = \"Pyramidal\"\n",
    "))[as.character(type)]\n",
    "names(simpleType) = names(type)\n",
    "table(simpleType)"
   ]
  },
  {
   "cell_type": "code",
   "execution_count": null,
   "metadata": {
    "collapsed": false
   },
   "outputs": [],
   "source": [
    "gse75386 = data.frame(\n",
    "    row.names = colnames(logTpm),\n",
    "    class = simpleType[colnames(logTpm)],\n",
    "    Pvalb = as.numeric(logTpm['ENSMUST00000005860', ]),\n",
    "    Cck = as.numeric(logTpm['ENSMUST00000035120', ]),\n",
    "    Gad1 = as.numeric(logTpm['ENSMUST00000140478', ]),\n",
    "    dummy = ''\n",
    ")\n",
    "head(gse75386)"
   ]
  },
  {
   "cell_type": "markdown",
   "metadata": {},
   "source": [
    "**Summary plots based on data.frame gse75386**\n",
    "- Keep in mind Pvalb and Cck are used to label both **cell types**\n",
    "  - which tend to express the genes in question at high levels\n",
    "- and specific **genes**\n",
    "  - which are generally expressed at high levels in those cell types"
   ]
  },
  {
   "cell_type": "code",
   "execution_count": null,
   "metadata": {
    "collapsed": false
   },
   "outputs": [],
   "source": [
    "ggstrip = ggplot(\n",
    "    data = gse75386,\n",
    "    mapping = aes(\n",
    "        x = Gad1,\n",
    "        y = class\n",
    "    )\n",
    ")\n",
    "ggstrip = ggstrip + geom_point()\n",
    "## pdf('gse75386_gad1_stripchart_bw.pdf', h=1, w=6)\n",
    "print(ggstrip)\n",
    "## garbage = dev.off()"
   ]
  },
  {
   "cell_type": "code",
   "execution_count": null,
   "metadata": {
    "collapsed": false
   },
   "outputs": [],
   "source": [
    "ggbar = ggplot(gse75386, aes(x=class, y=Gad1))\n",
    "ggbar = ggbar + geom_bar(alpha=0.1,\n",
    "                         position='identity', stat='identity')\n",
    "ggbar = ggbar + coord_flip()\n",
    "## pdf('gse75386_gad1_barchart_id.pdf', h=1, w=6)\n",
    "print(ggbar)\n",
    "## garbage = dev.off()"
   ]
  },
  {
   "cell_type": "code",
   "execution_count": null,
   "metadata": {
    "collapsed": false
   },
   "outputs": [],
   "source": [
    "## use dplyr functionality to compute stat transformations\n",
    "gse75386stats = gse75386 %>%\n",
    "                group_by(class) %>%\n",
    "                summarize(\n",
    "                    `Gad1 (Mean)` = mean(Gad1),\n",
    "                    SE = sd(Gad1) / sqrt(length(Gad1))\n",
    "                )\n",
    "ggbarse = ggplot(gse75386stats, aes(x=class, y=`Gad1 (Mean)`))\n",
    "ggbarse = ggbarse + geom_bar(alpha=0.6, stat='identity')\n",
    "ggbarse = ggbarse + geom_errorbar(aes(ymin=`Gad1 (Mean)` - SE,\n",
    "                                      ymax=`Gad1 (Mean)` + SE),\n",
    "                                  width=0)\n",
    "ggbarse = ggbarse + coord_flip()\n",
    "## pdf('gse75386_gad1_barchart_stat.pdf', h=1, w=6)\n",
    "print(ggbarse)\n",
    "## garbage = dev.off()"
   ]
  },
  {
   "cell_type": "code",
   "execution_count": null,
   "metadata": {
    "collapsed": false
   },
   "outputs": [],
   "source": [
    "ggbox = ggplot(gse75386, aes(x=class, y=Gad1))\n",
    "ggbox = ggbox + geom_boxplot(stat='boxplot',\n",
    "                             outlier.size=0)\n",
    "ggbox = ggbox + geom_point(alpha=0.5)\n",
    "ggbox = ggbox + coord_flip()\n",
    "## pdf('gse75386_gad1_boxplot.pdf', h=1, w=6)\n",
    "print(ggbox)\n",
    "## garbage = dev.off()"
   ]
  },
  {
   "cell_type": "code",
   "execution_count": null,
   "metadata": {
    "collapsed": false
   },
   "outputs": [],
   "source": [
    "ggscat = ggplot(\n",
    "    gse75386,\n",
    "    aes(x=Gad1, y=Cck, color=class)\n",
    ")\n",
    "ggscat = ggscat + geom_point(alpha=0.75)\n",
    "ggscat = ggscat + scale_color_manual(\n",
    "values=c('darkslategray', 'goldenrod', 'lightseagreen'))\n",
    "## pdf('gse75386_cck_vs_gad1.pdf', h=4, w=5.5)\n",
    "print(ggscat)\n",
    "## garbage = dev.off()"
   ]
  },
  {
   "cell_type": "markdown",
   "metadata": {},
   "source": [
    "**Add dichotomized versions of Pvalb and Gad1 to gse75386 data.frame**"
   ]
  },
  {
   "cell_type": "code",
   "execution_count": null,
   "metadata": {
    "collapsed": false
   },
   "outputs": [],
   "source": [
    "binarize = function(x, column, brk) {\n",
    "    out = cut(x[ , column], breaks=c(-Inf, brk, Inf))\n",
    "    levels(out) = paste(c('low', 'high'), column)\n",
    "    names(out) = rownames(x)\n",
    "    return(out)\n",
    "}\n",
    "gse75386$'Pvalb (cut)' = binarize(gse75386, 'Pvalb', 5)\n",
    "gse75386$'Gad1 (cut)' = binarize(gse75386, 'Gad1', 6)\n",
    "head(gse75386)"
   ]
  },
  {
   "cell_type": "code",
   "execution_count": null,
   "metadata": {
    "collapsed": false
   },
   "outputs": [],
   "source": [
    "ggscat = ggplot(\n",
    "    gse75386,\n",
    "    aes(x=Gad1, y=Cck, color=class, size=`Pvalb (cut)`)\n",
    ")\n",
    "ggscat = ggscat + geom_point(alpha=0.75)\n",
    "ggscat = ggscat + scale_color_manual(\n",
    "        values=c('darkslategray', 'goldenrod', 'lightseagreen'))\n",
    "ggscat = ggscat + scale_size_manual(values=c(2, 4))\n",
    "## pdf('gse75386_cck_vs_gad1_sized_by_pvalb.pdf', h=4, w=5.6)\n",
    "print(ggscat)\n",
    "## garbage = dev.off()"
   ]
  },
  {
   "cell_type": "code",
   "execution_count": null,
   "metadata": {
    "collapsed": false
   },
   "outputs": [],
   "source": [
    "gse75386$odd = annot[colnames(logTpm), 'title']\n",
    "## Pyramidal cells with low Gad1 and low Pvalb are not odd\n",
    "gse75386[gse75386$class == 'Pyramidal' &\n",
    "         gse75386$'Gad1 (cut)' == 'low Gad1' &\n",
    "         gse75386$'Pvalb (cut)' == 'low Pvalb',\n",
    "         'odd'] = NA\n",
    "## Pvalb cells with high Gad1 and high Pvalb are not odd\n",
    "gse75386[gse75386$class == 'Pvalb' &\n",
    "         gse75386$'Gad1 (cut)' == 'high Gad1' &\n",
    "         gse75386$'Pvalb (cut)' == 'high Pvalb',\n",
    "         'odd'] = NA\n",
    "## Cck cells with high Gad1 and low Pvalb are not odd\n",
    "gse75386[gse75386$class == 'Cck' &\n",
    "         gse75386$'Gad1 (cut)' == 'high Gad1' &\n",
    "         gse75386$'Pvalb (cut)' == 'low Pvalb',\n",
    "         'odd'] = NA"
   ]
  },
  {
   "cell_type": "code",
   "execution_count": null,
   "metadata": {
    "collapsed": false
   },
   "outputs": [],
   "source": [
    "ggscat = ggplot(\n",
    "    gse75386,\n",
    "    aes(x=Gad1, y=Cck, color=class, size=`Pvalb (cut)`)\n",
    ")\n",
    "ggscat = ggscat + geom_point(alpha=0.75)\n",
    "ggscat = ggscat + scale_color_manual(\n",
    "        values=c('darkslategray', 'goldenrod', 'lightseagreen'))\n",
    "ggscat = ggscat + scale_size_manual(values=c(2, 4))\n",
    "## pdf('gse75386_cck_vs_gad1_sized_by_pvalb.pdf', h=4, w=5.6)\n",
    "print(ggscat)\n",
    "## garbage = dev.off()"
   ]
  },
  {
   "cell_type": "code",
   "execution_count": null,
   "metadata": {
    "collapsed": false
   },
   "outputs": [],
   "source": [
    "ggscat = ggscat + geom_text(\n",
    "    aes(label=odd),\n",
    "    vjust = -0.85,\n",
    "    size = 3,\n",
    "    show.legend = FALSE\n",
    ")\n",
    "## pdf('gse75386_cck_vs_gad1_sized_by_pvalb_odds_labeled.pdf', h=4, w=5.6)\n",
    "print(ggscat)\n",
    "## garbage = dev.off()"
   ]
  },
  {
   "cell_type": "markdown",
   "metadata": {},
   "source": [
    "**Load in Minard data set**"
   ]
  },
  {
   "cell_type": "code",
   "execution_count": null,
   "metadata": {
    "collapsed": false
   },
   "outputs": [],
   "source": [
    "troops = rt('minard-troops.tsv', row.names=NULL)\n",
    "cities = rt('minard-cities.tsv', row.names=NULL)\n",
    "head(troops)"
   ]
  },
  {
   "cell_type": "code",
   "execution_count": null,
   "metadata": {
    "collapsed": false
   },
   "outputs": [],
   "source": [
    "ggtroops = ggplot(troops, aes(long, lat))\n",
    "ggtroops = ggtroops + geom_path(aes(\n",
    "    size = survivors,\n",
    "    color = direction,\n",
    "    group = group\n",
    "))\n",
    "## pdf('ggplot_minard_troops.pdf', h=4, w=12)\n",
    "print(ggtroops)\n",
    "## garbage = dev.off()"
   ]
  },
  {
   "cell_type": "code",
   "execution_count": null,
   "metadata": {
    "collapsed": false
   },
   "outputs": [],
   "source": [
    "ggboth = ggtroops + geom_text(\n",
    "    aes(label = city),\n",
    "    size = 4,\n",
    "    data = cities\n",
    ")\n",
    "## pdf('ggplot_minard_both.pdf', h=4, w=12)\n",
    "print(ggboth)\n",
    "## garbage = dev.off()"
   ]
  },
  {
   "cell_type": "code",
   "execution_count": null,
   "metadata": {
    "collapsed": false
   },
   "outputs": [],
   "source": [
    "ggboth = ggboth + scale_size(\n",
    "    range = c(1, 10),\n",
    "    breaks = c(1, 2, 3) * 10^5,\n",
    "    labels = comma(c(1, 2, 3) * 10^5)\n",
    ")\n",
    "ggboth = ggboth + scale_color_manual(values = c(\"#d2b48c\",\"black\"))\n",
    "ggboth = ggboth + xlab(NULL) + ylab(NULL)\n",
    "## pdf('ggplot_minard_both_formatted.pdf', h=4, w=12)\n",
    "print(ggboth)\n",
    "## garbage = dev.off()"
   ]
  },
  {
   "cell_type": "markdown",
   "metadata": {},
   "source": [
    "**Load in Anscombe data set**"
   ]
  },
  {
   "cell_type": "code",
   "execution_count": null,
   "metadata": {
    "collapsed": false
   },
   "outputs": [],
   "source": [
    "anscombe = rt('anscombe_orig.tsv')\n",
    "anscombe = data.frame(\n",
    "    x = c(rep(anscombe$x0, 3), anscombe$x4),\n",
    "    y = c(anscombe$y1, anscombe$y2, anscombe$y3, anscombe$y4),\n",
    "    set = paste('set', c(rep('1', nrow(anscombe)), rep('2', nrow(anscombe)),\n",
    "    rep('3', nrow(anscombe)), rep('4', nrow(anscombe))))\n",
    ")\n",
    "head(anscombe)"
   ]
  },
  {
   "cell_type": "code",
   "execution_count": null,
   "metadata": {
    "collapsed": false
   },
   "outputs": [],
   "source": [
    "ggo = ggplot(anscombe, aes(x=x, y=y))\n",
    "ggo = ggo + facet_wrap(~ set)\n",
    "ggo = ggo + geom_point()\n",
    "## pdf('anscombe_points.pdf', h=5, w=5)\n",
    "print(ggo)\n",
    "## garbage = dev.off()"
   ]
  },
  {
   "cell_type": "code",
   "execution_count": null,
   "metadata": {
    "collapsed": false
   },
   "outputs": [],
   "source": [
    "ggo = ggo + stat_smooth(method=lm)\n",
    "## pdf('anscombe_lm.pdf', h=5, w=5)\n",
    "print(ggo)\n",
    "## garbage = dev.off()"
   ]
  },
  {
   "cell_type": "markdown",
   "metadata": {},
   "source": [
    "**Function to generate text description of linear model fit**"
   ]
  },
  {
   "cell_type": "code",
   "execution_count": null,
   "metadata": {
    "collapsed": false
   },
   "outputs": [],
   "source": [
    "lmDescription = function(x, y=NULL, method=lm, digits=2) {\n",
    "    if (length(y) == 0) {y=x$y; x=x$x}\n",
    "    lmo = method(y ~ x)\n",
    "    return(paste0(\n",
    "        'y = ',\n",
    "        round(coef(lmo)[2], digits),\n",
    "        '*x + ',\n",
    "        round(coef(lmo)[1], digits),\n",
    "        ' + e \\n',\n",
    "        'Var[e] = ',\n",
    "        round(summary(lmo)$sigma^2, digits)\n",
    "    ))\n",
    "}\n",
    "lmDescriptions = function(data, method=lm, digits=2) {\n",
    "    lmDescs = lapply(\n",
    "        split(data[ , c('x', 'y')], data$set),\n",
    "        FUN = lmDescription,\n",
    "        method = method\n",
    "    )\n",
    "    return(data.frame(\n",
    "        x = 13.5,\n",
    "        y = 5.25,\n",
    "        set = names(lmDescs),\n",
    "        text = as.character(unlist(lmDescs)),\n",
    "        stringsAsFactors = FALSE\n",
    "    ))\n",
    "}"
   ]
  },
  {
   "cell_type": "code",
   "execution_count": null,
   "metadata": {
    "collapsed": false
   },
   "outputs": [],
   "source": [
    "ggo = ggplot(anscombe, aes(x=x, y=y))\n",
    "ggo = ggo + geom_point()\n",
    "ggo = ggo + geom_text(aes(label=text), data=lmDescriptions(anscombe))\n",
    "ggo = ggo + stat_smooth(method=lm)\n",
    "ggo = ggo + facet_wrap(~ set)\n",
    "## pdf('anscombe_lm_text.pdf', h=5, w=5)\n",
    "print(ggo)\n",
    "## garbage = dev.off()"
   ]
  },
  {
   "cell_type": "code",
   "execution_count": null,
   "metadata": {
    "collapsed": false
   },
   "outputs": [],
   "source": [
    "ggo = ggplot(anscombe, aes(x=x, y=y))\n",
    "ggo = ggo + geom_point()\n",
    "ggo = ggo + geom_text(aes(label=text),\n",
    "data=lmDescriptions(anscombe, rlm))\n",
    "ggo = ggo + stat_smooth(method=rlm)\n",
    "ggo = ggo + facet_wrap(~ set)\n",
    "## pdf('anscombe_rlm.pdf', h=5, w=5)\n",
    "print(ggo)\n",
    "## garbage = dev.off()"
   ]
  },
  {
   "cell_type": "code",
   "execution_count": null,
   "metadata": {
    "collapsed": false
   },
   "outputs": [],
   "source": [
    "ggo = ggplot(anscombe, aes(x=x, y=y))\n",
    "ggo = ggo + geom_point()\n",
    "ggo = ggo + stat_smooth(method=loess)\n",
    "ggo = ggo + facet_wrap(~ set)\n",
    "## pdf('anscombe_loess.pdf', h=5, w=5)\n",
    "print(ggo)\n",
    "## garbage = dev.off()"
   ]
  },
  {
   "cell_type": "markdown",
   "metadata": {},
   "source": [
    "**Functions to control fits contained in ggpairs object from GGally**"
   ]
  },
  {
   "cell_type": "code",
   "execution_count": null,
   "metadata": {
    "collapsed": false
   },
   "outputs": [],
   "source": [
    "wrappedHistogram = function(data, mapping, ...) {\n",
    "    ggobj = eval(parse(text=paste0(\n",
    "            'ggplot(data, aes(x=`', as.character(mapping[['x']]), '`))')))\n",
    "    if (\"y\" %in% names(mapping)) {\n",
    "        ggobj = eval(parse(text=paste0(\n",
    "            'ggobj + facet_grid(`',\n",
    "            as.character(mapping[['y']]),\n",
    "            '` ~ .)'\n",
    "        )))\n",
    "    }\n",
    "    ggobj = ggobj + geom_histogram(aes(fill=class, y=..density..), binwidth=2)\n",
    "    ggobj = ggobj + scale_fill_manual(\n",
    "            values=c('darkslategray', 'goldenrod', 'lightseagreen'))\n",
    "    return(ggobj)\n",
    "}\n",
    "wrappedBar = function(data, mapping, ...) {\n",
    "    ggobj = ggplot(data, mapping)\n",
    "    ggobj = ggobj + geom_bar(aes(fill=class))\n",
    "    ggobj = ggobj + scale_fill_manual(\n",
    "            values=c('darkslategray', 'goldenrod', 'lightseagreen'))\n",
    "    return(ggobj)\n",
    "}\n",
    "wrappedBox = function(data, mapping, ...) {\n",
    "    ggobj = ggplot(data, mapping)\n",
    "    ggobj = ggobj + geom_boxplot(aes(color=class), outlier.size=1)\n",
    "    ggobj = ggobj + scale_color_manual(\n",
    "            values=c('darkslategray', 'goldenrod', 'lightseagreen'))\n",
    "    return(ggobj)\n",
    "}\n",
    "wrappedLoess = function(data, mapping,\n",
    "        method='rlm', method.args=list(deg=1), span=1.5, ...) {\n",
    "    ggobj = ggplot(data, mapping)\n",
    "    ggobj = ggobj + geom_point(size=1, alpha=0.75, aes(color=class))\n",
    "    ggobj = ggobj + scale_color_manual(\n",
    "            values=c('darkslategray', 'goldenrod', 'lightseagreen'))\n",
    "    ggobj = ggobj + geom_smooth(aes(color=class),\n",
    "            method=method, method.args=method.args, span=span, se=FALSE, ...)\n",
    "    return(ggobj)\n",
    "}"
   ]
  },
  {
   "cell_type": "code",
   "execution_count": null,
   "metadata": {
    "collapsed": false
   },
   "outputs": [],
   "source": [
    "## pdf('gse75386_pairs.pdf', h=5, w=5)\n",
    "ggpairs(\n",
    "    gse75386[ , c('Gad1', 'Pvalb', 'Cck', 'class')],\n",
    "    diag = list(\n",
    "        continuous = wrappedHistogram,\n",
    "        discrete = wrappedBar\n",
    "    ),\n",
    "    lower = list(\n",
    "        continuous = wrappedLoess,\n",
    "        combo = wrappedHistogram\n",
    "    ),\n",
    "    upper = list(\n",
    "        combo = wrappedBox\n",
    "    )\n",
    ") + theme_bw() + theme(\n",
    "    panel.grid.minor = element_blank(),\n",
    "    panel.grid.major = element_blank(),\n",
    "    axis.text.y = element_blank(),\n",
    "    axis.ticks.y = element_blank(),\n",
    "    axis.text.x = element_blank(),\n",
    "    axis.ticks.x = element_blank()\n",
    ")\n",
    "## garbage = dev.off()"
   ]
  },
  {
   "cell_type": "code",
   "execution_count": null,
   "metadata": {
    "collapsed": false
   },
   "outputs": [],
   "source": [
    "theGenes = c(\n",
    "    'Npy',\n",
    "    'Cacna1d',\n",
    "    'Hcn1',\n",
    "    'Erbb4',\n",
    "    'Gad1',\n",
    "    'Pvalb',\n",
    "    'Slc17a8',\n",
    "    'Kcna1',\n",
    "    'Bcl11b',\n",
    "    'Chrm1',\n",
    "    'Calb1',\n",
    "    'Gabra1',\n",
    "    'Cck',\n",
    "    'S100a10',\n",
    "    'Vip'\n",
    ")\n",
    "theGeneData = logTpm[trxAnnot[rownames(logTpm), 'gene_name'] %in% theGenes, ]\n",
    "## remove duplicate transcripts for same gene...\n",
    "theGeneData = theGeneData[!rownames(theGeneData) %in% c(\n",
    "    'ENSMUST00000094934',\n",
    "    'ENSMUST00000141336'\n",
    "), ]\n",
    "## use gene_name instead of ensembl transcript id to identify genes\n",
    "rownames(theGeneData) = trxAnnot[rownames(theGeneData), 'gene_name']\n",
    "heatmapData = sweep(theGeneData, 1, rowMeans(theGeneData), `-`)\n",
    "## pdf('gse75386_int_gene_heatmap.pdf', h=3.25, w=12, onefile=FALSE)\n",
    "pheatmap(\n",
    "    heatmapData,\n",
    "    annotation_col = data.frame(\n",
    "        row.names = colnames(heatmapData),\n",
    "        type = simpleType[colnames(heatmapData)]\n",
    "    ),\n",
    "    annotation_colors = list(type=c(\n",
    "        Cck = 'darkslategray',\n",
    "        Pvalb = 'goldenrod',\n",
    "        Pyramidal = 'lightseagreen'\n",
    "    )),\n",
    "    cluster_method = 'mcquitty',\n",
    "    show_colnames = FALSE\n",
    ")\n",
    "## garbage = dev.off()"
   ]
  }
 ],
 "metadata": {
  "kernelspec": {
   "display_name": "R",
   "language": "R",
   "name": "ir"
  },
  "language_info": {
   "codemirror_mode": "r",
   "file_extension": ".r",
   "mimetype": "text/x-r-source",
   "name": "R",
   "pygments_lexer": "r",
   "version": "3.4.1"
  }
 },
 "nbformat": 4,
 "nbformat_minor": 1
}
